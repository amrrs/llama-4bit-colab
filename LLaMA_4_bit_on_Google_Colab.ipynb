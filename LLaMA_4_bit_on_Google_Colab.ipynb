{
  "nbformat": 4,
  "nbformat_minor": 0,
  "metadata": {
    "colab": {
      "provenance": [],
      "include_colab_link": true
    },
    "kernelspec": {
      "name": "python3",
      "display_name": "Python 3"
    },
    "language_info": {
      "name": "python"
    },
    "accelerator": "GPU",
    "gpuClass": "standard"
  },
  "cells": [
    {
      "cell_type": "markdown",
      "metadata": {
        "id": "view-in-github",
        "colab_type": "text"
      },
      "source": [
        "<a href=\"https://colab.research.google.com/github/twobob/llama-4bit-colab/blob/patch-1/LLaMA_4_bit_on_Google_Colab.ipynb\" target=\"_parent\"><img src=\"https://colab.research.google.com/assets/colab-badge.svg\" alt=\"Open In Colab\"/></a>"
      ]
    },
    {
      "cell_type": "markdown",
      "source": [
        "# 1) Download the Repo GPTQ-for-LLaMA by qwopqwop200"
      ],
      "metadata": {
        "id": "g7y5klUBd2D4"
      }
    },
    {
      "cell_type": "code",
      "source": [
        "!git clone https://github.com/qwopqwop200/GPTQ-for-LLaMa"
      ],
      "metadata": {
        "id": "amW_8r5xSKCu"
      },
      "execution_count": null,
      "outputs": []
    },
    {
      "cell_type": "markdown",
      "source": [
        "# 2) Enter into the folder and amend requirements.txt"
      ],
      "metadata": {
        "id": "1DEWtsdzd_Co"
      }
    },
    {
      "cell_type": "code",
      "source": [
        "%cd GPTQ-for-LLaMa\n",
        "!sed -i '$d' requirements.txt\n",
        "!awk ' FNR == 1 { print $0; while ( getline == 1 ) { print $0; } print \"git+https://github.com/zphang/transformers@660dd6e2bbc9255aacd0e60084cf15df1b6ae00d#egg=transformers\"; } ' requirements.txt > tmp && cp tmp requirements.txt && rm tmp"
      ],
      "metadata": {
        "id": "nmYxwmn_SK9j"
      },
      "execution_count": null,
      "outputs": []
    },
    {
      "cell_type": "markdown",
      "source": [
        "# 3) Install the requirements"
      ],
      "metadata": {
        "id": "gNyiR8Hyd8r_"
      }
    },
    {
      "cell_type": "code",
      "source": [
        "!pip install -r requirements.txt "
      ],
      "metadata": {
        "id": "W-ZDJxOgSDiX"
      },
      "execution_count": null,
      "outputs": []
    },
    {
      "cell_type": "markdown",
      "source": [
        "# 4) Download the pre-converted llama-7b-4bit model from HF Hub"
      ],
      "metadata": {
        "id": "iE7-HS8BeKhO"
      }
    },
    {
      "cell_type": "code",
      "execution_count": null,
      "metadata": {
        "id": "3kad-aHfRb_D"
      },
      "outputs": [],
      "source": [
        "!wget https://huggingface.co/decapoda-research/llama-7b-hf-int4/resolve/main/llama-7b-4bit.pt"
      ]
    },
    {
      "cell_type": "markdown",
      "source": [
        "# 5) Setup CUDA"
      ],
      "metadata": {
        "id": "VvwyWnkqeRQf"
      }
    },
    {
      "cell_type": "code",
      "source": [
        "!python ./setup_cuda.py install #NameError: name 'quant_cuda' is not defined"
      ],
      "metadata": {
        "id": "8oKFlpB6U_OX"
      },
      "execution_count": null,
      "outputs": []
    },
    {
      "cell_type": "markdown",
      "source": [
        "# 6) LLama Inference"
      ],
      "metadata": {
        "id": "mv5RvkkNeVSj"
      }
    },
    {
      "cell_type": "code",
      "source": [
        "#@markdown What you would like to ask ...\n",
        "prompt = \"What are Europes capital cities called? \" #@param \n",
        "#@markdown   \n",
        "\n",
        "#@markdown __*OPTIONS*__\n",
        "#@markdown\n",
        "#@markdown Apply a \"Question: {prompt} Answer:\" format to prompt?\n",
        "use_q_a_format = False #@param {type:\"boolean\"}\n",
        "#@markdown How potentially irrelevant may the answers be (higher is more)\n",
        "temperature = .8 #@param {type: \"number\"} \n",
        "#@markdown The maximum length of the sequence to be generated\n",
        "maxlength = 128 #@param {type: \"number\"} \n",
        "#@markdown If topp set to < 1, only the smallest set of most probable tokens with probabilities that add up to top_p or higher are kept for generation.\n",
        "topp = 0.95 #@param {type: \"number\"} \n",
        "\n",
        "qa_string = f\"'Question: {prompt} \\nAnswer: '\"\n",
        "prompt = qa_string if use_q_a_format else f\"\\\"\"+prompt+\"\\\"\"\n",
        "\n",
        "!CUDA_VISIBLE_DEVICES=0 python llama_inference.py decapoda-research/llama-7b-hf --top_p $topp  --temperature $temperature --wbits 4 --load llama-7b-4bit.pt --max_length $maxlength --text $prompt\n"
      ],
      "metadata": {
        "id": "VJ_OaAa8dmQY",
        "outputId": "2d66aa1b-6346-4cf0-e3b3-53598ddc56b5",
        "colab": {
          "base_uri": "https://localhost:8080/"
        }
      },
      "execution_count": 34,
      "outputs": [
        {
          "output_type": "stream",
          "name": "stdout",
          "text": [
            "Loading model ...\n",
            "^C\n"
          ]
        }
      ]
    },
    {
      "cell_type": "markdown",
      "source": [
        "\n",
        "\n",
        "\n",
        "\n",
        "---\n",
        "\n",
        "\n",
        "\n",
        "Below this line is - NOT REQUIRED - debugging code"
      ],
      "metadata": {
        "id": "M44CVVxFf2C_"
      }
    },
    {
      "cell_type": "code",
      "source": [
        "#logging.getLogger().setLevel(logging.CRITICAL)"
      ],
      "metadata": {
        "id": "4oc4nQgKXPJp"
      },
      "execution_count": null,
      "outputs": []
    },
    {
      "cell_type": "code",
      "source": [
        "# import os\n",
        "# import tensorflow as tf\n",
        "\n",
        "# os.environ['TF_CPP_MIN_LOG_LEVEL'] = '3'"
      ],
      "metadata": {
        "id": "C34c6FnvlfIZ"
      },
      "execution_count": null,
      "outputs": []
    },
    {
      "cell_type": "code",
      "source": [],
      "metadata": {
        "id": "X8eHypsonhWm"
      },
      "execution_count": null,
      "outputs": []
    }
  ]
}